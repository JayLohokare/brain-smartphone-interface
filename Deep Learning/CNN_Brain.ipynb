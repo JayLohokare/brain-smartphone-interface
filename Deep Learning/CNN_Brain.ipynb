{
  "nbformat": 4,
  "nbformat_minor": 0,
  "metadata": {
    "colab": {
      "name": "Untitled0.ipynb",
      "version": "0.3.2",
      "views": {},
      "default_view": {},
      "provenance": [],
      "collapsed_sections": []
    },
    "kernelspec": {
      "name": "python2",
      "display_name": "Python 2"
    },
    "accelerator": "GPU"
  },
  "cells": [
    {
      "metadata": {
        "id": "kt1pzR-oJld8",
        "colab_type": "code",
        "colab": {
          "autoexec": {
            "startup": false,
            "wait_interval": 0
          }
        }
      },
      "cell_type": "code",
      "source": [
        "import json\n",
        "import pandas as pd\n",
        "import tensorflow as tf\n",
        "import numpy as np\n",
        "from sklearn.cross_validation import train_test_split"
      ],
      "execution_count": 0,
      "outputs": []
    },
    {
      "metadata": {
        "id": "ctXQfLVsJu_E",
        "colab_type": "code",
        "colab": {
          "autoexec": {
            "startup": false,
            "wait_interval": 0
          }
        }
      },
      "cell_type": "code",
      "source": [
        "from google.colab import files\n",
        "uploaded = files.upload()\n",
        "\n"
      ],
      "execution_count": 0,
      "outputs": []
    },
    {
      "metadata": {
        "id": "e9CiP8G5JwUE",
        "colab_type": "code",
        "colab": {
          "autoexec": {
            "startup": false,
            "wait_interval": 0
          },
          "base_uri": "https://localhost:8080/",
          "height": 146
        },
        "outputId": "38305a11-0650-4150-e13f-24b8dd98c0f7",
        "executionInfo": {
          "status": "ok",
          "timestamp": 1523515913834,
          "user_tz": 240,
          "elapsed": 276,
          "user": {
            "displayName": "Jay Lohokare",
            "photoUrl": "//lh3.googleusercontent.com/-0bBtDx-OpcA/AAAAAAAAAAI/AAAAAAAAo0k/wOog6yUZ1yM/s50-c-k-no/photo.jpg",
            "userId": "101298074449851112405"
          }
        }
      },
      "cell_type": "code",
      "source": [
        "df = pd.read_csv(\"bciData.csv\")\n",
        "\n",
        "label=df.pop(\"label\") # pop off labels to new group\n",
        "print(df.shape)\n",
        "\n",
        "\n",
        "\n",
        "print(df.head())\n"
      ],
      "execution_count": 190,
      "outputs": [
        {
          "output_type": "stream",
          "text": [
            "(4198, 4)\n",
            "         a        b        c        d\n",
            "0  1581.21  2062.57   608.05   334.41\n",
            "1  1550.65  1990.27  1340.54  1082.14\n",
            "2  1578.14  2034.80   598.77   323.75\n",
            "3  1556.88  2012.28  1008.58   717.68\n",
            "4  1561.22  2012.21  1003.91   715.37\n"
          ],
          "name": "stdout"
        }
      ]
    },
    {
      "metadata": {
        "id": "xAvJ_x0ENU9c",
        "colab_type": "code",
        "colab": {
          "autoexec": {
            "startup": false,
            "wait_interval": 0
          }
        }
      },
      "cell_type": "code",
      "source": [
        "df=df.values\n"
      ],
      "execution_count": 0,
      "outputs": []
    },
    {
      "metadata": {
        "id": "7R-pVWzQQVYq",
        "colab_type": "code",
        "colab": {
          "autoexec": {
            "startup": false,
            "wait_interval": 0
          },
          "base_uri": "https://localhost:8080/",
          "height": 72
        },
        "outputId": "9cc2c73c-68c0-478a-c708-30b8431f7b8d",
        "executionInfo": {
          "status": "ok",
          "timestamp": 1523515915884,
          "user_tz": 240,
          "elapsed": 416,
          "user": {
            "displayName": "Jay Lohokare",
            "photoUrl": "//lh3.googleusercontent.com/-0bBtDx-OpcA/AAAAAAAAAAI/AAAAAAAAo0k/wOog6yUZ1yM/s50-c-k-no/photo.jpg",
            "userId": "101298074449851112405"
          }
        }
      },
      "cell_type": "code",
      "source": [
        "train_labels = pd.get_dummies(label)\n",
        "\n",
        "# make np array\n",
        "train_labels = train_labels.values\n",
        "print(train_labels.shape)\n",
        "\n",
        "# print y_test\n",
        "\n",
        "x_train,x_test,y_train,y_test = train_test_split(df,train_labels,test_size=0.2)\n",
        "# so now we have predictors and y values, separated into test and train\n",
        "print len(x_train)\n",
        "print len(x_test)\n",
        "\n",
        "# print y_test\n",
        "\n",
        "x_train,x_test,y_train,y_test = np.array(x_train,dtype='float32'), np.array(x_test,dtype='float32'),np.array(y_train,dtype='float32'),np.array(y_test,dtype='float32')"
      ],
      "execution_count": 192,
      "outputs": [
        {
          "output_type": "stream",
          "text": [
            "(4198, 2)\n",
            "3358\n",
            "840\n"
          ],
          "name": "stdout"
        }
      ]
    },
    {
      "metadata": {
        "id": "Sx2kgxn2QVb2",
        "colab_type": "code",
        "colab": {
          "autoexec": {
            "startup": false,
            "wait_interval": 0
          }
        }
      },
      "cell_type": "code",
      "source": [
        "x = tf.placeholder(tf.float32, [None, 4])\n",
        "# # # take 20 features  to 10 nodes in hidden layer\n",
        "w1 = tf.Variable(tf.random_normal([4, 1000],stddev=.5,name='w1'))\n",
        "# # # add biases for each node\n",
        "b1 = tf.Variable(tf.zeros([1000]))\n",
        "# # calculate activations \n",
        "hidden_output = tf.nn.softmax(tf.matmul(x, w1) + b1)\n",
        "\n",
        "w2 = tf.Variable(tf.random_normal([1000, 2],stddev=.5,name='w2'))\n",
        "b2 = tf.Variable(tf.zeros([2]))\n",
        "\n",
        "# # placeholder for correct values \n",
        "y_ = tf.placeholder(\"float\", [None,2])\n",
        "# # #implement model. these are predicted ys\n",
        "y = tf.nn.softmax(tf.matmul(hidden_output, w2) + b2)"
      ],
      "execution_count": 0,
      "outputs": []
    },
    {
      "metadata": {
        "id": "nRSx6NMAQvdG",
        "colab_type": "code",
        "colab": {
          "autoexec": {
            "startup": false,
            "wait_interval": 0
          }
        }
      },
      "cell_type": "code",
      "source": [
        "loss = tf.reduce_mean(tf.reduce_sum(tf.nn.softmax_cross_entropy_with_logits(logits=y, labels=y_, name='xentropy')))\n",
        "opt = tf.train.AdamOptimizer(learning_rate=.002)\n",
        "train_step = opt.minimize(loss, var_list=[w1,b1,w2,b2])"
      ],
      "execution_count": 0,
      "outputs": []
    },
    {
      "metadata": {
        "id": "1FJWQHJdQyBO",
        "colab_type": "code",
        "colab": {
          "autoexec": {
            "startup": false,
            "wait_interval": 0
          }
        }
      },
      "cell_type": "code",
      "source": [
        "def get_mini_batch(x,y):\n",
        "\trows=np.random.choice(x.shape[0], 50)\n",
        "\treturn x[rows], y[rows]"
      ],
      "execution_count": 0,
      "outputs": []
    },
    {
      "metadata": {
        "id": "KMZVMqCWRM9w",
        "colab_type": "code",
        "colab": {
          "autoexec": {
            "startup": false,
            "wait_interval": 0
          }
        }
      },
      "cell_type": "code",
      "source": [
        "sess = tf.Session()\n",
        "# init all vars\n",
        "init = tf.initialize_all_variables()\n",
        "sess.run(init)"
      ],
      "execution_count": 0,
      "outputs": []
    },
    {
      "metadata": {
        "id": "8pP9yyu1RPRA",
        "colab_type": "code",
        "colab": {
          "autoexec": {
            "startup": false,
            "wait_interval": 0
          },
          "base_uri": "https://localhost:8080/",
          "height": 35
        },
        "outputId": "6e61812a-dbd1-42f7-a9b3-941f91c4b4e2",
        "executionInfo": {
          "status": "ok",
          "timestamp": 1523515946320,
          "user_tz": 240,
          "elapsed": 21192,
          "user": {
            "displayName": "Jay Lohokare",
            "photoUrl": "//lh3.googleusercontent.com/-0bBtDx-OpcA/AAAAAAAAAAI/AAAAAAAAo0k/wOog6yUZ1yM/s50-c-k-no/photo.jpg",
            "userId": "101298074449851112405"
          }
        }
      },
      "cell_type": "code",
      "source": [
        "ntrials = 10000\n",
        "for i in range(ntrials):\n",
        "    # get mini batch\n",
        "    a,b=get_mini_batch(x_train,y_train)\n",
        "    # run train step, feeding arrays of 100 rows each time\n",
        "    _, cost =sess.run([train_step,loss], feed_dict={x: a, y_: b})\n",
        "    \n",
        "correct_prediction = tf.equal(tf.argmax(y,1), tf.argmax(y_,1))\n",
        "accuracy = tf.reduce_mean(tf.cast(correct_prediction, tf.float32))\n",
        "\n",
        "print(\"Leave few out Test accuracy on v2 is {}\".format(sess.run(accuracy, feed_dict={x: x_test, y_: y_test})))"
      ],
      "execution_count": 197,
      "outputs": [
        {
          "output_type": "stream",
          "text": [
            "Leave few out Test accuracy on v2 is 0.99880951643\n"
          ],
          "name": "stdout"
        }
      ]
    },
    {
      "metadata": {
        "id": "l5zfPGqrRSsq",
        "colab_type": "code",
        "colab": {
          "autoexec": {
            "startup": false,
            "wait_interval": 0
          },
          "base_uri": "https://localhost:8080/",
          "height": 35
        },
        "outputId": "5420e3ef-eb6b-4bfa-c2fb-e04a08fea297",
        "executionInfo": {
          "status": "ok",
          "timestamp": 1523515947622,
          "user_tz": 240,
          "elapsed": 1164,
          "user": {
            "displayName": "Jay Lohokare",
            "photoUrl": "//lh3.googleusercontent.com/-0bBtDx-OpcA/AAAAAAAAAAI/AAAAAAAAo0k/wOog6yUZ1yM/s50-c-k-no/photo.jpg",
            "userId": "101298074449851112405"
          }
        }
      },
      "cell_type": "code",
      "source": [
        "saver = tf.train.Saver()\n",
        "#saver.save(sess, 'twoDigitlClassifier',global_step=1000)\n",
        "saver.save(sess, './model_final')"
      ],
      "execution_count": 198,
      "outputs": [
        {
          "output_type": "execute_result",
          "data": {
            "text/plain": [
              "'./model_final'"
            ]
          },
          "metadata": {
            "tags": []
          },
          "execution_count": 198
        }
      ]
    },
    {
      "metadata": {
        "id": "nwU9ltkiXG72",
        "colab_type": "code",
        "colab": {
          "autoexec": {
            "startup": false,
            "wait_interval": 0
          },
          "base_uri": "https://localhost:8080/",
          "height": 35
        },
        "outputId": "f9f3444a-d189-4af8-b998-45c9f9c3a1b7",
        "executionInfo": {
          "status": "ok",
          "timestamp": 1523515950224,
          "user_tz": 240,
          "elapsed": 306,
          "user": {
            "displayName": "Jay Lohokare",
            "photoUrl": "//lh3.googleusercontent.com/-0bBtDx-OpcA/AAAAAAAAAAI/AAAAAAAAo0k/wOog6yUZ1yM/s50-c-k-no/photo.jpg",
            "userId": "101298074449851112405"
          }
        }
      },
      "cell_type": "code",
      "source": [
        "#Testing on new data\n",
        "df = pd.read_csv(\"test.csv\")\n",
        "\n",
        "label=df.pop(\"label\")\n",
        "\n",
        "train_labels = pd.get_dummies(label)\n",
        "train_labels = train_labels.values\n",
        "train_labels = np.array(train_labels[:, 0])\n",
        "\n",
        "y_test = (np.arange(2) == train_labels[:, None])\n",
        "y_test = np.array(y_test,dtype='float32')\n",
        "x_test = np.array(df,dtype='float32')\n",
        "\n",
        "\n",
        "print len(y_test), len(x_test)\n",
        "correct_prediction = tf.equal(tf.argmax(y,1), tf.argmax(y_,1))\n",
        "accuracy = tf.reduce_mean(tf.cast(correct_prediction, tf.float32))\n",
        "\n"
      ],
      "execution_count": 199,
      "outputs": [
        {
          "output_type": "stream",
          "text": [
            "2217 2217\n"
          ],
          "name": "stdout"
        }
      ]
    },
    {
      "metadata": {
        "id": "19VxHJypYA2S",
        "colab_type": "code",
        "colab": {
          "autoexec": {
            "startup": false,
            "wait_interval": 0
          },
          "base_uri": "https://localhost:8080/",
          "height": 35
        },
        "outputId": "5cbec6f4-d6dc-4737-f92f-f6a3c977698f",
        "executionInfo": {
          "status": "ok",
          "timestamp": 1523515951524,
          "user_tz": 240,
          "elapsed": 292,
          "user": {
            "displayName": "Jay Lohokare",
            "photoUrl": "//lh3.googleusercontent.com/-0bBtDx-OpcA/AAAAAAAAAAI/AAAAAAAAo0k/wOog6yUZ1yM/s50-c-k-no/photo.jpg",
            "userId": "101298074449851112405"
          }
        }
      },
      "cell_type": "code",
      "source": [
        "print(\"Test accuracy on v1 samples is {}\".format(sess.run(accuracy, feed_dict={x: x_test, y_: y_test})))"
      ],
      "execution_count": 200,
      "outputs": [
        {
          "output_type": "stream",
          "text": [
            "Test accuracy on v1 samples is 0.0\n"
          ],
          "name": "stdout"
        }
      ]
    },
    {
      "metadata": {
        "id": "UoW5x3KXocR4",
        "colab_type": "code",
        "colab": {
          "autoexec": {
            "startup": false,
            "wait_interval": 0
          }
        }
      },
      "cell_type": "code",
      "source": [
        ""
      ],
      "execution_count": 0,
      "outputs": []
    }
  ]
}